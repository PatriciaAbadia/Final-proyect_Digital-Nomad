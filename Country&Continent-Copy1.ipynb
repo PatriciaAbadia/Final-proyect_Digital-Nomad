{
 "cells": [
  {
   "cell_type": "code",
   "execution_count": 1,
   "id": "f6380581",
   "metadata": {},
   "outputs": [],
   "source": [
    "#pip install selenium"
   ]
  },
  {
   "cell_type": "code",
   "execution_count": 2,
   "id": "d85fc9c5",
   "metadata": {},
   "outputs": [],
   "source": [
    "import pandas as pd\n",
    "import numpy as np"
   ]
  },
  {
   "cell_type": "code",
   "execution_count": 3,
   "id": "f04ebf7f",
   "metadata": {},
   "outputs": [],
   "source": [
    "from selenium import webdriver\n",
    "import pandas as pd\n",
    "from selenium.webdriver.chrome.options import Options\n",
    "from webdriver_manager.chrome import ChromeDriverManager"
   ]
  },
  {
   "cell_type": "code",
   "execution_count": 4,
   "id": "d8babfda",
   "metadata": {},
   "outputs": [],
   "source": [
    "import time\n",
    "\n",
    "import warnings\n",
    "warnings.filterwarnings('ignore')"
   ]
  },
  {
   "cell_type": "code",
   "execution_count": 5,
   "id": "82462559",
   "metadata": {},
   "outputs": [],
   "source": [
    "#driver configuration\n",
    "opciones=Options()\n",
    "\n",
    "opciones.add_experimental_option('excludeSwitches', ['enable-automation'])\n",
    "opciones.add_experimental_option('useAutomationExtension', False)\n",
    "opciones.headless=False    # si True, no aperece la ventana (headless=no visible)\n",
    "opciones.add_argument('--start-maximized')         # comienza maximizado\n",
    "#opciones.add_argument('user-data-dir=selenium')    # mantiene las cookies\n",
    "#opciones.add_extension('driver_folder/adblock.crx')       # adblocker\n",
    "opciones.add_argument('--incognito')"
   ]
  },
  {
   "cell_type": "code",
   "execution_count": 6,
   "id": "5ad05bee",
   "metadata": {},
   "outputs": [
    {
     "name": "stderr",
     "output_type": "stream",
     "text": [
      "\n",
      "\n",
      "====== WebDriver manager ======\n",
      "Current google-chrome version is 101.0.4951\n",
      "Get LATEST chromedriver version for 101.0.4951 google-chrome\n",
      "Driver [C:\\Users\\patri\\.wdm\\drivers\\chromedriver\\win32\\101.0.4951.41\\chromedriver.exe] found in cache\n"
     ]
    }
   ],
   "source": [
    "driver = \"./chromedriver.exe\" #remember substitute this for your driver path\n",
    "driver = webdriver.Chrome(ChromeDriverManager().install(),options = opciones)"
   ]
  },
  {
   "cell_type": "markdown",
   "id": "20895e68",
   "metadata": {},
   "source": [
    "### * Incluyo a las ciudades el país y continente al que pertenecen"
   ]
  },
  {
   "cell_type": "code",
   "execution_count": 7,
   "id": "7cfee327",
   "metadata": {},
   "outputs": [],
   "source": [
    "urlbase = 'https://nomadlist.com/cost-of-living/'\n",
    "driver.get(urlbase)"
   ]
  },
  {
   "cell_type": "code",
   "execution_count": 8,
   "id": "1e938cb2",
   "metadata": {},
   "outputs": [],
   "source": [
    "cities=['ericeira', 'lisbon', 'miami', 'gran-canaria', 'budapest', 'austin', 'porto', 'buenos-aires', 'tbilisi', 'chiang-mai', 'sofia', 'warsaw', 'bangkok', 'belgrade', 'istanbul', 'phuket', 'madeira', 'ko-pha-ngan', 'da-nang', 'mexico-city', 'prague', 'cape-town', 'seoul', 'singapore', 'toronto', 'timisoara', 'berlin', 'stockholm', 'valencia', 'split', 'kuala-lumpur', 'sao-paulo', 'canggu', 'krakow', 'bengaluru', 'penang', 'atlanta', 'wroclaw', 'playa-del-carmen', 'zagreb', 'bucharest', 'yerevan', 'antalya', 'melbourne', 'honolulu', 'auckland', 'cluj', 'tenerife', 'sydney', 'ljubljana', 'florianopolis', 'vancouver', 'madrid', 'medellin', 'taipei', 'novi-sad', 'london', 'las-vegas', 'brasov', 'los-angeles', 'ubud', 'munich', 'copenhagen', 'athens', 'barcelona', 'rio-de-janeiro', 'lagos-algarve', 'new-york-city', 'tallinn', 'ho-chi-minh-city', 'denver', 'vienna', 'cancun', 'washington', 'boston', 'kotor', 'san-francisco', 'wellington', 'amsterdam', 'tampa', 'thessaloniki', 'coimbra', 'hamburg', 'hong-kong', 'portland', 'bansko', 'fuerteventura', 'manila', 'vilnius', 'plovdiv', 'portimao', 'dresden', 'quebec-city', 'chicago', 'johannesburg', 'davao', 'dallas', 'taghazout', 'san-miguel-de-allende', 'dubrovnik', 'quito', 'constanta', 'tulum', 'puerto-escondido', 'lima', 'tucson', 'brno', 'szczecin', 'chatham', 'braga', 'azores', 'chisinau', 'havana', 'el-gouna', 'seville', 'cebu', 'ottawa', 'willemstad', 'guanajuato', 'shanghai', 'queretaro', 'minneapolis', 'yangon', 'ploiesti', 'gdansk', 'riga', 'jeju-island', 'seattle', 'batumi', 'victoria', 'edmonton', 'cologne', 'paris', 'brussels', 'krabi', 'mumbai', 'luang-prabang', 'salt-lake-city', 'varna', 'siem-reap', 'sarajevo', 'poznan', 'skopje', 'tirana', 'perth', 'aveiro', 'bratislava', 'christchurch', 'hoi-an', 'almaty', 'porto-alegre', 'leipzig', 'suva', 'phu-quoc', 'guangzhou', 'praia', 'katowice', 'tokyo', 'san-diego', 'phnom-penh', 'galapagos-islands', 'nairobi', 'palawan', 'orlando', 'puerto-vallarta', 'nis', 'lodz', 'siargao', 'frankfurt', 'dusseldorf', 'lille', 'new-orleans', 'aberdeen', 'winnipeg', 'brampton', 'liverpool', 'senggigi', 'lublin', 'tartu', 'queenstown', 'asuncion', 'hyderabad', 'port-elizabeth', 'paphos', 'lake-balaton', 'newcastle-upon-tyne', 'osijek', 'pretoria', 'calgary', 'cuenca', 'marrakesh', 'monterrey', 'sliema', 'saskatoon', 'osaka', 'regina', 'kansas-city', 'vadodara', 'fayetteville', 'paramaribo', 'haikou', 'san-antonio', 'palermo', 'amman', 'general-santos', 'adelaide', 'antigua', 'seminyak', 'toulouse', 'kota-kinabalu', 'busan', 'mcallen', 'jamshedpur', 'rijeka', 'oaxaca', 'kuching', 'rotterdam', 'winston', 'ogden', 'dhanbad', 'columbus', 'pattaya', 'reykjavik', 'faro', 'sioux-falls', 'brisbane', 'beirut', 'nantes', 'malmo', 'stuttgart', 'baguio', 'ko-lanta', 'craiova', 'goa', 'salta', 'manchester', 'munggu', 'kathmandu', 'hua-hin', 'zadar', 'banja-luka', 'surrey', 'leicester', 'cairns', 'la-union', 'kingsport', 'montpellier', 'kochi', 'hilo', 'la-plata', 'birmingham', 'limassol', 'gainesville', 'guadalajara', 'nuremberg', 'eau-claire', 'abbotsford', 'indianapolis', 'fargo', 'hull', 'santo-domingo', 'dunedin', 'mysore', 'laredo', 'beaumont', 'naha', 'pittsburgh', 'cincinnati', 'fukuoka', 'kingston', 'nha-trang', 'iasi', 'chiang-rai', 'aachen', 'rosario', 'mallorca', 'chittagong', 'cusco', 'roanoke', 'oklahoma-city', 'tangier', 'kokomo', 'grande-prairie', 'conroe', 'antwerp', 'fredericton', 'gothenburg', 'phoenix', 'mamaia', 'alicante', 'pai', 'salvador', 'merida', 'halifax', 'evansville', 'el-jadida', 'charlotte', 'groningen', 'minot', 'brownsville', 'amarillo', 'las-cruces', 'podgorica', 'richmond', 'hagen', 'bordeaux', 'ushuaia', 'oshawa', 'little-rock', 'graz', 'chico', 'mostar', 'waterloo-ia', 'arequipa', 'apia', 'mobile', 'sumperk', 'fortaleza', 'malaga', 'casper', 'ranchi', 'gaziantep', 'adana', 'houston', 'georgetown', 'surabaya', 'nakhon-ratchasima', 'jena', 'kitchener', 'kaohsiung', 'shenzhen', 'recife', 'greensboro', 'pharr', 'bakersfield', 'montgomery', 'zurich', 'macau', 'karlsruhe', 'tulsa', 'lawton', 'cartagena', 'raleigh', 'hanoi', 'visalia', 'izmir', 'toledo', 'guelph', 'edinburg', 'boracay', 'ankara', 'helsinki', 'lyon', 'salem', 'moncton', 'javea', 'port-arthur', 'changzhou', 'san-pedro-de-atacama', 'beacon', 'pokhara', 'valdosta', 'rocky-mount', 'huddersfield', 'columbus-ga', 'nashville', 'rzeszow', 'syracuse', 'sacramento', 'youngstown', 'augusta', 'tyler', 'tijuana', 'bristol', 'detroit', 'da-lat', 'bremen', 'semarang', 'makati', 'brasilia', 'varanasi', 'thiruvananthapuram', 'bismarck', 'montego-bay', 'victoria-tx', 'rochester', 'alanya', 'oakland', 'terre-haute', 'great-falls', 'fort-wayne', 'rishikesh', 'wichita', 'langkawi', 'chengdu', 'richland', 'dubai', 'kosice', 'gori', 'porterville', 'pekanbaru', 'curitiba', 'allahabad', 'espoo', 'clarksville', 'montevideo', 'hobart', 'owensboro', 'fresno', 'windsor', 'port-louis', 'sandpoint', 'cork', 'pune', 'merced', 'sa-pa', 'pocatello', 'boise', 'delano', 'lubbock', 'north-little-rock', 'natal', 'lancaster', 'montreal', 'fes', 'bogota', 'tainan', 'palm-coast', 'colombo', 'hof', 'burgas', 'bar', 'huizhou', 'guiyang', 'dongguan', 'windhoek', 'rennes', 'belem', 'amed', 'genoa', 'madurai', 'utrecht', 'malacca', 'cavtat', 'pisa', 'ipoh', 'wollongong', 'kunming', 'ghent', 'johor-bahru', 'stockton', 'peoria', 'kaunas', 'lake-tahoe', 'bologna', 'makassar', 'green-bay', 'santiago', 'bath', 'victorville', 'scranton', 'billings', 'harare', 'dothan', 'jacksonville', 'tulare', 'conway', 'oregon-city', 'schenectady', 'grenoble', 'okinawa-city', 'tehran', 'kampala', 'st-catharines', 'cixi', 'bandar-seri-begawan', 'palmdale', 'tel-aviv', 'edinburgh', 'flint', 'cordoba', 'ko-chang', 'lake-charles', 'st-george', 'bielefeld', 'campinas', 'longview', 'grand-junction', 'luanda', 'jakarta', 'muncie', 'belo-horizonte', 'greenville', 'bocas-del-toro', 'hue', 'norwich', 'jiangmen', 'kennewick', 'mui-ne', 'bedford', 'harlingen', 'manama', 'benin-city', 'turku', 'northampton', 'grand-forks', 'antananarivo', 'bloomington', 'vasai', 'st-joseph', 'jonesboro', 'gili-air', 'apple-valley', 'fort-lauderdale', 'philadelphia', 'udon-thani', 'reading-pa', 'brazzaville', 'torshavn', 'dublin', 'thane', 'springdale', 'moradabad', 'guwahati', 'tunis', 'enterprise', 'killeen', 'chania', 'jyvaskyla', 'temple', 'glasgow', 'marbella', 'new-haven', 'menorca', 'hermosillo', 'mar-del-plata', 'la-serena', 'budva', 'columbia', 'dortmund', 'gwangju', 'agra', 'elkhart', 'rhodes', 'baku', 'alexandria', 'galle', 'ibadan', 'birmingham-al', 'san-jose', 'kigali', 'astana', 'dayton', 'huaian', 'waterloo', 'bareilly', 'durban', 'chifeng', 'santa-cruz', 'casablanca', 'medford', 'campo-grande', 'mataram', 'bhubaneswar', 'mission', 'iquique', 'suwon', 'luxor', 'madison', 'logan', 'norfolk', 'leiden', 'auburn', 'asheville', 'freetown', 'yakima', 'bursa', 'cabo-san-lucas', 'bari', 'lubumbashi', 'san-cristobal-de-las-casas', 'fairfield', 'itapema', 'oulu', 'pristina', 'aguascalientes', 'bowling-green', 'hohhot', 'daegu', 'redding', 'oxford', 'jacksonville-nc', 'fort-smith', 'louisville', 'jodhpur', 'wanaka', 'bishkek', 'melbourne-fl', 'ann-arbor', 'zwolle', 'sao-luis', 'bethlehem', 'ocala', 'rochester-mn', 'greeley', 'hubli', 'turlock', 'almere', 'amritsar', 'fuzhou', 'florence', 'panama-city', 'kano', 'allentown', 'gwalior', 'sao-jose-dos-campos', 'nijmegen', 'bloomington-il', 'johnson-city', 'iowa-city', 'sorocaba', 'ao-nang', 'yuba-city', 'abuja', 'arugam-bay', 'thrissur', 'bradenton', 'jiamusi', 'nukualofa', 'durg', 'larnaca', 'asansol', 'champaign', 'novocherkassk', 'la-paz', 'kannur', 'tracy', 'kalyan', 'lanzarote', 'des-moines', 'college-station', 'galway', 'baltimore', 'cirebon', 'aurora', 'normal', 'cochabamba', 'intag-valley', 'colorado-springs', 'cleveland', 'ko-phi-phi', 'erie', 'kitakyushu', 'changchun', 'santa-maria', 'huaibei', 'enid', 'nagasaki', 'riverside', 'khulna', 'medan', 'goiania', 'srinagar', 'kandy', 'leeds', 'ashland', 'hvar', 'lethbridge', 'lafayette', 'lianyungang', 'agadir', 'vijayawada', 'montanita', 'salzburg', 'modesto', 'utica', 'kyoto', 'manteca', 'appleton', 'lusaka', 'aalborg', 'providence', 'bryan', 'tsushima-island', 'malappuram', 'mombasa', 'visakhapatnam', 'springfield', 'henderson', 'bossier-city', 'banjul', 'st-louis', 'kozhikode', 'naples', 'ko-lipe', 'shantou', 'southampton', 'baotou', 'jilin', 'hesperia', 'raipur', 'hagatna', 'quanzhou', 'olympia', 'palm-bay', 'lynchburg', 'port-harcourt', 'decatur', 'kunshan', 'tirupur', 'kolkata', 'grand-rapids', 'portsmouth', 'el-alto', 'davenport', 'trento', 'nanaimo', 'trier', 'bellingham', 'wenling', 'joplin', 'taizhou', 'kollam', 'cedar-rapids', 'bridgeton', 'puebla', 'trieste', 'huntsville', 'nashik', 'isla-mujeres', 'geneva', 'andorra-la-vella', 'conakry', 'nicosia', 'dahab', 'shiraz', 'high-point', 'puning', 'pasco', 'vitoria', 'cambridge', 'nanjing', 'sochi', 'rabat', 'bandung', 'zhongshan', 'st-cloud', 'nottingham', 'lelystad', 'zunyi', 'taiyuan', 'qingdao', 'lansing', 'strasbourg', 'chongqing', 'joao-pessoa', 'barrie', 'jackson', 'mbuji-mayi', 'rockford', 'algiers', 'la-crosse', 'a-coruna', 'beijing', 'burlington', 'bucaramanga', 'york', 'matara', 'tashkent', 'avellino', 'hannover', 'yiwu', 'shreveport', 'the-hague', 'konya', 'san-luis-potosi', 'breda', 'pasto', 'port-of-spain', 'patna', 'campos-dos-goytacazes', 'granada', 'rogers', 'oran', 'oslo', 'treviso', 'hemet', 'coventry', 'reading', 'chamonix', 'cozumel', 'waco', 'bournemouth', 'fort-mcmurray', 'changshu', 'leuven', 'guayaquil', 'antofagasta', 'dalian', 'santa-fe', 'heidelberg', 'darmstadt', 'san-salvador', 'virginia-beach', 'sihanoukville', 'ningbo', 'suzhou', 'nagoya', 'zhangzhou', 'corpus-christi', 'surat', 'jundiai', 'rovaniemi', 'oranjestad', 'dili', 'maseru', 'provo', 'albany', 'foshan', 'taos', 'delhi', 'toluca', 'klaipeda', 'guatemala-city', 'chennai', 'ulaanbaatar', 'uberlandia', 'harrisonburg', 'pamplona', 'ouagadougou', 'zhangjiakou', 'mendoza', 'uluwatu', 'elgin', 'carson-city', 'padova', 'meerut', 'san-juan', 'lome', 'coimbatore', 'palembang', 'luton', 'kumasi', 'innsbruck', 'battle-creek', 'hefei', 'mandalay', 'chachapoyas', 'huambo', 'marysville', 'gaborone', 'kananga', 'kassel', 'guilin', 'kagoshima', 'boumerdas', 'patras', 'mancora', 'mashhad', 'janesville', 'spokane-valley', 'manchester-nh', 'taichung', 'san-sebastian', 'wuxi', 'wichita-falls', 'barranquilla', 'varkala', 'zhuhai', 'huainan', 'baton-rouge', 'brighton', 'indore', 'zhangjiagang', 'tilburg', 'topeka', 'chattanooga', 'shenyang', 'kinmen', 'manaus', 'abidjan', 'zhanjiang', 'bridgeport', 'idaho-falls', 'rome', 'bern', 'naypyidaw', 'jarabacoa', 'rajkot', 'exeter', 'flagstaff', 'fushun', 'homs', 'daytona-beach', 'volgograd', 'joliet', 'sanur', 'xining', 'valparaiso', 'casa-grande', 'midland', 'anderson', 'cairo', 'shaoxing', 'putian', 'livingstone', 'cheyenne', 'tarifa', 'hartford', 'soweto', 'santa-barbara', 'qinhuangdao', 'modena', 'essaouira', 'aarhus', 'qiqihar', 'yokohama', 'torreon', 'juba', 'arnhem', 'sendai', 'mcleod-ganj', 'tebessa', 'onitsha', 'douala', 'cape-coral', 'annecy', 'cheltenham', 'port-st-lucie', 'pyongyang', 'dijon', 'pueblo', 'bergen', 'lincoln', 'brentwood', 'scottsdale', 'tabriz', 'dededo', 'kamiyama', 'ruian', 'rimini', 'fort-myers', 'kearney', 'murrieta', 'lucknow', 'nago', 'jimbaran', 'deventer', 'belfast', 'kirkuk', 'fairfax', 'vina-del-mar', 'stamford', 'harbin', 'nuuk', 'wonsan', 'lake-como', 'tampere', 'juarez', 'tripoli', 'avignon', 'spokane', 'santa-marta', 'sioux-city', 'yuma', 'aligarh', 'whistler', 'okayama', 'milwaukee', 'nashua', 'hoover', 'lilongwe', 'kelowna', 'trondheim', 'gold-coast', 'bhopal', 'aleppo', 'canberra', 'caracas', 'liuzhou', 'tallahassee', 'lanzhou', 'lodi', 'niamey', 'erlangen', 'minca', 'male', 'giza', 'stanley', 'sayulita', 'marseille', 'sapporo', 'maracay', 'xiamen', 'hangzhou', 'omaha', 'bruges', 'vientiane', 'kisangani', 'yamoussoukro', 'texel', 'bozeman', 'noida', 'dubuque', 'reno', 'mexicali', 'cardiff', 'boulder', 'yaounde', 'jamestown', 'nantong', 'dar-es-salaam', 'malang', 'wenzhou', 'panajachel', 'denpasar', 'nouakchott', 'rethymno', 'port-au-prince', 'weston', 'yangshuo', 'centennial', 'abu-dhabi', 'nagpur', 'jaipur', 'eugene', 'kauai', 'venice', 'macon', 'eindhoven', 'caye-caulker', 'hiroshima', 'tromso', 'buffalo', 'park-city', 'nanning', 'maracaibo', 'worcester', 'huzhou', 'rouen', 'addis-ababa', 'albuquerque', 'bodrum', 'tanchon', 'maputo', 'santa-rosa', 'sulaymaniyah', 'cannes', 'milan', 'kaduna', 'sarasota', 'qom', 'ahmedabad', 'beaverton', 'duhok', 'santorini', 'bridgetown', 'avarua', 'xi-an', 'warner-robins', 'lake-havasu-city', 'odessa-tx', 'punta-cana', 'hama', 'shrewsbury', 'galveston', 'kanpur', 'temecula', 'datong', 'scheveningen', 'wuhu', 'lexington', 'san-ignacio', 'yogyakarta', 'ramallah', 'nanchang', 'surakarta', 'vang-vieng', 'punta-del-este', 'lawrence', 'zhoukou', 'charleston', 'gurgaon', 'funafuti', 'sheffield', 'bend', 'anapolis', 'jabalpur', 'asmara', 'laayoune', 'honiara', 'carlsbad', 'kaechon', 'palo-alto', 'port-said', 'wuhan', 'bamako', 'kobe', 'san-clemente', 'siena', 'byron-bay', 'linyi', 'ludhiana', 'nice', 'newport-beach', 'manhattan', 'anchorage', 'west-palm-beach', 'kota', 'cagliari', 'oxnard', 'tianjin', 'abilene', 'mountain-view', 'anshan', 'dorobo', 'sinuiju', 'princeton', 'st-johns', 'sanaa', 'amalfi', 'grand-island', 'key-west', 'waukegan', 'weihai', 'wilmington', 'pensacola', 'yinchuan', 'duluth', 'frederick', 'dongying', 'ube', 'ibiza', 'memphis', 'xuzhou', 'gibraltar', 'dhaka', 'rapid-city', 'fort-collins', 'verona', 'helena', 'kinshasa', 'portland-me', 'nanyang', 'zhengzhou', 'bilbao', 'belize-city', 'menlo-park', 'ithaca', 'monterey', 'savannah', 'karachi', 'aurangabad', 'mosul', 'basse-terre', 'san-juan-del-sur', 'oceanside', 'coeur-dalene', 'accra', 'vista', 'chandigarh', 'corvallis', 'alesund', 'san-mateo', 'saint-helier', 'tengzhou', 'dammam', 'monaco', 'salento', 'vineland', 'kaesong', 'basel', 'port-orange', 'kuta', 'darwin', 'medina', 'biarritz', 'haarlem', 'luoyang', 'banff', 'nassau', 'indio', 'quetta', 'jerusalem', 'luxembourg', 'dushanbe', 'cody', 'petaluma', 'leeuwarden', 'jiaxing', 'sparks', 'libreville', 'road-town', 'plantation', 'bonita-springs', 'verdi', 'urumqi', 'missoula', 'incline-village', 'shijiazhuang', 'doha', 'knoxville', 'cali', 'port-vila', 'zhucheng', 'zhuzhou', 'jinan', 'napa', 'salem-ma', 'xiangyang', 'monza', 'lagos', 'george-town', 'ferrara', 'puerto-viejo', 'baoding', 'canton', 'oshkosh', 'mogadishu', 'amundsen-scott', 'mcmurdo-station', 'chongjin', 'sharjah', 'zandvoort', 'arendal', 'gulfport', 'erbil', 'hamhung', 'turin', 'tuscaloosa', 'hamilton', 'philipsburg', 'baghdad', 'isfahan', 'lucca', 'lausanne', 'lahore', 'muscat', 'weifang', 'san-angelo', 'lugano', 'cathedral-city', 'riyadh', 'palm-desert', 'zaria', 'charlotte-amalie', 'liberia', 'sariwon', 'constantine', 'ko-samui', 'cabarete', 'yichang', 'anyang', 'interlaken', 'beersheba', 'sargodha', 'daejeon', 'st-gallen', 'rawalpindi', 'san-pedro', 'nampo', 'dakar', 'peshawar', 'xiangtan', 'haifa', 'tangshan', 'bahawalpur', 'mykonos', 'kenosha', 'kabul', 'zibo', 'managua', 'leon', 'handan', 'king-edward-point', 'islamabad', 'santa-teresa', 'ashgabat', 'tamarindo', 'faisalabad', 'multan', 'benghazi', 'tegucigalpa', 'gujranwala', 'ko-tao', 'bellevue', 'vatican-city', 'basra', 'yantai', 'sialkot', 'cayenne', 'martinique', 'san-pedro-sula', 'kralendijk', 'port-moresby', 'copan', 'ajaccio', 'ahvaz', 'khartoum', 'kuwait-city', 'hamamatsu', 'damascus', 'djibouti', 'changsha', 'bangui', 'bay-islands', 'yangzhou', 'jeddah', 'mecca', 'monrovia', 'noumea', 'tabarana-do-norte', 'ndjamena', 'kyiv', 'moscow', 'lviv', 'minsk', 'odessa', 'ivano-frankivsk', 'saint-petersburg', 'ufa', 'kharkiv', 'krasnodar', 'krasnoyarsk', 'dnipro', 'krivoy-rog', 'izhevsk', 'chelyabinsk', 'saratov', 'omsk', 'yekaterinburg', 'kaliningrad', 'ulyanovsk', 'obninsk', 'rostov-on-don', 'samara', 'novosibirsk', 'tomsk', 'vladivostok', 'kazan', 'nizhny']"
   ]
  },
  {
   "cell_type": "code",
   "execution_count": 9,
   "id": "3bafb37e",
   "metadata": {},
   "outputs": [],
   "source": [
    "cities2=['ericeira', 'lisbon', 'miami', 'gran-canaria', 'budapest', 'austin', 'porto', 'buenos-aires']"
   ]
  },
  {
   "cell_type": "code",
   "execution_count": 16,
   "id": "9fcb21aa",
   "metadata": {},
   "outputs": [],
   "source": [
    "urlbase = 'https://nomadlist.com/cost-of-living/'\n",
    "\n",
    "for i in cities2:\n",
    "    driver.get(urlbase + i)\n",
    "    time.sleep(2)\n",
    "    city_beer=[f'{i}']\n",
    "    cont=13\n",
    "    while True:\n",
    "        try:           \n",
    "            city_beer.append(driver.find_element_by_css_selector(f'body > div.modal.item.show.loaded > div:nth-child(7) > div.expandBelow > div.tab-scroller-container > div > div.tab.editable.tab-cost-of-living.double-width.show > table > tbody > tr:nth-child({cont}) > td.tooltip.value > span').text)\n",
    "            cont=cont-2\n",
    "        except:\n",
    "            break\n",
    "\n"
   ]
  },
  {
   "cell_type": "code",
   "execution_count": 17,
   "id": "20e83da4",
   "metadata": {},
   "outputs": [
    {
     "name": "stdout",
     "output_type": "stream",
     "text": [
      "['buenos-aires', '$0.64', '$2.13']\n"
     ]
    }
   ],
   "source": [
    "print(city_beer)"
   ]
  },
  {
   "cell_type": "code",
   "execution_count": null,
   "id": "8731e51a",
   "metadata": {},
   "outputs": [],
   "source": []
  },
  {
   "cell_type": "code",
   "execution_count": null,
   "id": "cbd1a6bd",
   "metadata": {},
   "outputs": [],
   "source": [
    "df=pd.DataFrame({'City':cities,'Country':country,'Continent':continent})\n",
    "df"
   ]
  },
  {
   "cell_type": "code",
   "execution_count": null,
   "id": "021d5557",
   "metadata": {},
   "outputs": [],
   "source": [
    "df.to_csv('./city_country.csv')"
   ]
  },
  {
   "cell_type": "code",
   "execution_count": null,
   "id": "8118452a",
   "metadata": {},
   "outputs": [],
   "source": []
  },
  {
   "cell_type": "code",
   "execution_count": null,
   "id": "a9476320",
   "metadata": {},
   "outputs": [],
   "source": []
  },
  {
   "cell_type": "code",
   "execution_count": null,
   "id": "d0091aa6",
   "metadata": {},
   "outputs": [],
   "source": []
  },
  {
   "cell_type": "code",
   "execution_count": null,
   "id": "7a9c21d5",
   "metadata": {},
   "outputs": [],
   "source": []
  },
  {
   "cell_type": "code",
   "execution_count": null,
   "id": "50996ed6",
   "metadata": {},
   "outputs": [],
   "source": []
  },
  {
   "cell_type": "code",
   "execution_count": null,
   "id": "90c51889",
   "metadata": {},
   "outputs": [],
   "source": []
  },
  {
   "cell_type": "code",
   "execution_count": null,
   "id": "39a7cd81",
   "metadata": {},
   "outputs": [],
   "source": []
  },
  {
   "cell_type": "code",
   "execution_count": null,
   "id": "ee15786f",
   "metadata": {},
   "outputs": [],
   "source": []
  },
  {
   "cell_type": "code",
   "execution_count": null,
   "id": "4cfb7815",
   "metadata": {},
   "outputs": [],
   "source": []
  },
  {
   "cell_type": "code",
   "execution_count": null,
   "id": "3e9f0875",
   "metadata": {},
   "outputs": [],
   "source": []
  },
  {
   "cell_type": "code",
   "execution_count": null,
   "id": "3e742690",
   "metadata": {},
   "outputs": [],
   "source": []
  },
  {
   "cell_type": "code",
   "execution_count": null,
   "id": "f15bb688",
   "metadata": {},
   "outputs": [],
   "source": []
  },
  {
   "cell_type": "code",
   "execution_count": null,
   "id": "27c004b7",
   "metadata": {},
   "outputs": [],
   "source": []
  },
  {
   "cell_type": "code",
   "execution_count": null,
   "id": "b6dc8ac9",
   "metadata": {},
   "outputs": [],
   "source": []
  },
  {
   "cell_type": "code",
   "execution_count": null,
   "id": "82c0ffb9",
   "metadata": {},
   "outputs": [],
   "source": []
  },
  {
   "cell_type": "code",
   "execution_count": null,
   "id": "060deb01",
   "metadata": {},
   "outputs": [],
   "source": []
  },
  {
   "cell_type": "code",
   "execution_count": null,
   "id": "6d0f9b78",
   "metadata": {},
   "outputs": [],
   "source": []
  },
  {
   "cell_type": "code",
   "execution_count": null,
   "id": "d8c69fad",
   "metadata": {},
   "outputs": [],
   "source": []
  },
  {
   "cell_type": "code",
   "execution_count": null,
   "id": "27570f2d",
   "metadata": {},
   "outputs": [],
   "source": []
  },
  {
   "cell_type": "code",
   "execution_count": null,
   "id": "135963b7",
   "metadata": {},
   "outputs": [],
   "source": []
  },
  {
   "cell_type": "code",
   "execution_count": null,
   "id": "7b16222d",
   "metadata": {},
   "outputs": [],
   "source": []
  },
  {
   "cell_type": "code",
   "execution_count": null,
   "id": "3e13451e",
   "metadata": {},
   "outputs": [],
   "source": []
  },
  {
   "cell_type": "code",
   "execution_count": null,
   "id": "8123cdc4",
   "metadata": {},
   "outputs": [],
   "source": []
  },
  {
   "cell_type": "code",
   "execution_count": null,
   "id": "8daa3d84",
   "metadata": {},
   "outputs": [],
   "source": []
  },
  {
   "cell_type": "code",
   "execution_count": null,
   "id": "57d9b055",
   "metadata": {},
   "outputs": [],
   "source": []
  },
  {
   "cell_type": "code",
   "execution_count": null,
   "id": "771fd535",
   "metadata": {},
   "outputs": [],
   "source": []
  },
  {
   "cell_type": "code",
   "execution_count": null,
   "id": "d0fa11aa",
   "metadata": {},
   "outputs": [],
   "source": []
  }
 ],
 "metadata": {
  "kernelspec": {
   "display_name": "Python 3 (ipykernel)",
   "language": "python",
   "name": "python3"
  },
  "language_info": {
   "codemirror_mode": {
    "name": "ipython",
    "version": 3
   },
   "file_extension": ".py",
   "mimetype": "text/x-python",
   "name": "python",
   "nbconvert_exporter": "python",
   "pygments_lexer": "ipython3",
   "version": "3.9.7"
  }
 },
 "nbformat": 4,
 "nbformat_minor": 5
}
